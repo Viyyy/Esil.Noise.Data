{
 "cells": [
  {
   "cell_type": "code",
   "execution_count": null,
   "metadata": {},
   "outputs": [],
   "source": [
    "# %%\n",
    "import datetime\n",
    "import torchaudio\n",
    "from data import Category, MyDataset\n",
    "import analysis as an\n",
    "from dotenv import load_dotenv\n",
    "from matplotlib import pyplot as plt\n",
    "import gc\n",
    "import tqdm\n",
    "load_dotenv()"
   ]
  },
  {
   "cell_type": "code",
   "execution_count": null,
   "metadata": {},
   "outputs": [],
   "source": [
    "base_dir = '\\\\\\\\10.166.168.123\\\\典型城市声纹数据库-标签过'\n",
    "category_list = ['自然噪声', '社会噪声', '建筑施工噪声', '工业噪声', '交通噪声']"
   ]
  },
  {
   "cell_type": "code",
   "execution_count": null,
   "metadata": {},
   "outputs": [],
   "source": [
    "import wandb\n",
    "wandb.login()\n",
    "\n",
    "wandb.init(\n",
    "    project=\"NoiseData.Analysys\",\n",
    "    name=datetime.datetime.now().strftime(\"%Y-%m-%d\"),\n",
    ")"
   ]
  },
  {
   "cell_type": "code",
   "execution_count": null,
   "metadata": {},
   "outputs": [],
   "source": [
    "cols = 'file audio sr Leq waveform spectrogram mel_spectrogram frequency_spectrum'.split(\" \")"
   ]
  },
  {
   "cell_type": "code",
   "execution_count": null,
   "metadata": {},
   "outputs": [],
   "source": [
    "spectrogram = an.get_spectrogram()\n",
    "for cname in category_list:\n",
    "    table = wandb.Table(columns=cols)\n",
    "    c = Category.from_selections(cname)\n",
    "    d = MyDataset(c,base_dir)\n",
    "    for i in tqdm.tqdm(range(len(c))):\n",
    "        file_path = d[i*1200][0]\n",
    "        signal, sr = torchaudio.load(file_path) # load signal and sample rate\n",
    "        mel_spectrogram = an.get_mel_spectrogram(sr=sr)\n",
    "        \n",
    "        waveform_fig = an.plot_waveform(signal, sr, title=\"Original waveform\")\n",
    "        # plot spectrogram\n",
    "        spec = spectrogram(signal)\n",
    "        spect_fig = an.plot_spectrogram(spec[0], title=\"spectrogram\")\n",
    "        \n",
    "        # plot mel_spectrogram\n",
    "        melspec = mel_spectrogram(signal)\n",
    "        mel_fig = an.plot_spectrogram(melspec[0], title=\"MelSpectrogram\", ylabel=\"mel freq\")\n",
    "        \n",
    "        # plot frequecy spectrum\n",
    "        freq_fig, Leq = an.plot_frequency_spectrogram(signal, sr)\n",
    "        \n",
    "        # file audio sr Leq waveform spectrogram mel_spectrogram frequency_spectrum\n",
    "        table.add_data(\n",
    "            file_path.split(\"\\\\\")[-1].split(\"_\")[0],\n",
    "            wandb.Audio(signal.mean(axis=0).flatten().numpy(), sample_rate=sr),\n",
    "            sr,\n",
    "            Leq,\n",
    "            an.plt2wandbImage(waveform_fig),\n",
    "            an.plt2wandbImage(spect_fig),\n",
    "            an.plt2wandbImage(mel_fig),\n",
    "            an.plt2wandbImage(freq_fig)\n",
    "        )\n",
    "        tqdm.tqdm.write(f\"Processed {file_path}\")\n",
    "        plt.close('all')\n",
    "        plt.clf()\n",
    "        gc.collect()\n",
    "    wandb.log({cname: table})\n",
    "        \n",
    "wandb.finish()"
   ]
  }
 ],
 "metadata": {
  "kernelspec": {
   "display_name": "Vi",
   "language": "python",
   "name": "python3"
  },
  "language_info": {
   "codemirror_mode": {
    "name": "ipython",
    "version": 3
   },
   "file_extension": ".py",
   "mimetype": "text/x-python",
   "name": "python",
   "nbconvert_exporter": "python",
   "pygments_lexer": "ipython3",
   "version": "3.10.13"
  }
 },
 "nbformat": 4,
 "nbformat_minor": 2
}
